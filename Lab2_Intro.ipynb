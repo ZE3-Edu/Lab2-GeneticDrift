{
 "cells": [
  {
   "cell_type": "markdown",
   "metadata": {},
   "source": [
    "# Lab 2 - Genetic Drift Intro\n",
    "\n",
    "In the last lab we were simulating a population growing. In this lab, we'll assume the population has grown to its *carrying capacity* (i.e., the population is full). Then we're randomly sampling from the current generation which organisms are going to reproduce and make up the next generation. This is like the blue and orange circles from Thursday's lecture! "
   ]
  },
  {
   "cell_type": "markdown",
   "metadata": {},
   "source": [
    "### Like before, we need to import our favorite libraries"
   ]
  },
  {
   "cell_type": "code",
   "execution_count": 1,
   "metadata": {},
   "outputs": [],
   "source": [
    "import numpy as np\n",
    "from matplotlib import pyplot as plt"
   ]
  },
  {
   "cell_type": "markdown",
   "metadata": {},
   "source": [
    "### We can create a few variables to help us\n",
    "`pop_size` will be the number of individuals in our population once it's reached the [carrying capacity](https://en.wikipedia.org/wiki/Carrying_capacity). \n",
    "\n",
    "`num_mutants` will be how many individuals in our population are the mutants that we want to keep track of. \n",
    "\n",
    "`population` will be the array of individuals (0s or 1s like before). Here I'm using a handy NumPy function `zeros` that gives me back an array of a specified size (and dimension -- but more on this later) full of zeros. There is also a similar function, `ones` that does exactly what it sounds like! "
   ]
  },
  {
   "cell_type": "code",
   "execution_count": 2,
   "metadata": {},
   "outputs": [
    {
     "name": "stdout",
     "output_type": "stream",
     "text": [
      "[0. 0. 0. 0. 0. 0. 0. 0. 0. 0. 0. 0. 0. 0. 0. 0. 0. 0. 0. 0.]\n"
     ]
    }
   ],
   "source": [
    "pop_size = 20\n",
    "num_mutants = 5\n",
    "\n",
    "population = np.zeros(pop_size)\n",
    "print(population)"
   ]
  },
  {
   "cell_type": "markdown",
   "metadata": {},
   "source": [
    "### We want to add in our mutants to the population before we get started ticking through generations\n",
    "It doesn't really matter where they are in our population list, so let's just put them in the front. \n",
    "\n",
    "Remember that the ***wild type*** organism is a 0, and the ***mutant*** is a 1 in our simulation."
   ]
  },
  {
   "cell_type": "code",
   "execution_count": 3,
   "metadata": {},
   "outputs": [
    {
     "name": "stdout",
     "output_type": "stream",
     "text": [
      "[1. 1. 1. 1. 1. 0. 0. 0. 0. 0. 0. 0. 0. 0. 0. 0. 0. 0. 0. 0.]\n"
     ]
    }
   ],
   "source": [
    "for i in range(num_mutants):\n",
    "    population[i] = 1\n",
    "    \n",
    "print(population)"
   ]
  },
  {
   "cell_type": "markdown",
   "metadata": {},
   "source": [
    "### Okay, now we have our initial population all set up!\n",
    "Let's write a little helper function that tells us the frequency of the mutant in our population -- this should look familiar!"
   ]
  },
  {
   "cell_type": "code",
   "execution_count": 4,
   "metadata": {},
   "outputs": [],
   "source": [
    "def mutant_freq(a_population):\n",
    "    return sum(a_population)/len(a_population)"
   ]
  },
  {
   "cell_type": "code",
   "execution_count": 5,
   "metadata": {},
   "outputs": [
    {
     "data": {
      "text/plain": [
       "0.25"
      ]
     },
     "execution_count": 5,
     "metadata": {},
     "output_type": "execute_result"
    }
   ],
   "source": [
    "mutant_freq(population)"
   ]
  },
  {
   "cell_type": "markdown",
   "metadata": {},
   "source": [
    "### Let's look at NumPy's `random.choice()` function\n",
    "[Here](https://numpy.org/doc/stable/reference/random/generated/numpy.random.choice.html) is a link to the full documentation. There, you'll see that it's *signature* is: `random.choice(a, size=None, replace=True, p=None)`\n",
    "\n",
    "So, it expects an array (`a`) in the first position, and then has some optional named arguments:\n",
    "- `size` tells NumPy the number (and dimension) of the returned sample\n",
    "- `replace` is a boolean that dictates if sampling is done with replacement or not\n",
    "- `p` is a probability vector that gives a weight to each element in the array -- this might come in handy later!\n",
    "\n",
    "Let's play with this function a bit"
   ]
  },
  {
   "cell_type": "code",
   "execution_count": 6,
   "metadata": {},
   "outputs": [
    {
     "data": {
      "text/plain": [
       "array([0., 1.])"
      ]
     },
     "execution_count": 6,
     "metadata": {},
     "output_type": "execute_result"
    }
   ],
   "source": [
    "np.random.choice(population, size=2)"
   ]
  },
  {
   "cell_type": "markdown",
   "metadata": {},
   "source": [
    "#### Notice that when we only sample a few individuals, we have a higher likelihood of missing our mutants!"
   ]
  },
  {
   "cell_type": "code",
   "execution_count": 7,
   "metadata": {},
   "outputs": [
    {
     "data": {
      "text/plain": [
       "array([0., 0.])"
      ]
     },
     "execution_count": 7,
     "metadata": {},
     "output_type": "execute_result"
    }
   ],
   "source": [
    "np.random.choice(population, size=2)"
   ]
  },
  {
   "cell_type": "code",
   "execution_count": 8,
   "metadata": {},
   "outputs": [
    {
     "data": {
      "text/plain": [
       "array([0., 1., 1., 1., 0., 1., 0., 1., 0., 0., 0., 0., 0., 1., 1., 0., 0.,\n",
       "       1., 0., 0., 0., 0., 0., 1., 1., 0., 1., 0., 1., 0., 0., 1., 0., 0.,\n",
       "       0., 0., 0., 1., 1., 0., 0., 0., 0., 0., 0., 0., 0., 0., 0., 0., 0.,\n",
       "       0., 1., 0., 0., 1., 1., 0., 0., 0., 0., 0., 0., 0., 0., 0., 0., 0.,\n",
       "       0., 0., 0., 0., 0., 1., 0., 0., 0., 0., 1., 1., 0., 0., 1., 0., 0.,\n",
       "       0., 1., 1., 0., 0., 0., 0., 0., 0., 0., 0., 0., 0., 0., 1.])"
      ]
     },
     "execution_count": 8,
     "metadata": {},
     "output_type": "execute_result"
    }
   ],
   "source": [
    "np.random.choice(population, size=100)"
   ]
  },
  {
   "cell_type": "code",
   "execution_count": 9,
   "metadata": {},
   "outputs": [
    {
     "data": {
      "text/plain": [
       "0.23"
      ]
     },
     "execution_count": 9,
     "metadata": {},
     "output_type": "execute_result"
    }
   ],
   "source": [
    "mutant_freq(np.random.choice(population, size=100))"
   ]
  },
  {
   "cell_type": "markdown",
   "metadata": {},
   "source": [
    "### That's pretty close to the 0.5 we started with! \n",
    "\n",
    "Let's do this a bunch of times and look at the distribution of mutation frequencies.\n",
    "\n",
    "### First, let's look at a sample of 100 individuals from our population\n",
    "Now, the population only has 20 individuals, but that's okay because we're sampling with replacement! "
   ]
  },
  {
   "cell_type": "code",
   "execution_count": 10,
   "metadata": {},
   "outputs": [
    {
     "data": {
      "image/png": "[encoded data removed]",
      "text/plain": [
       "<Figure size 432x288 with 1 Axes>"
      ]
     },
     "metadata": {
      "needs_background": "light"
     },
     "output_type": "display_data"
    }
   ],
   "source": [
    "mutaant_frequency_samples = [mutant_freq(np.random.choice(population, size=100)) for i in range(1000)]\n",
    "plt.hist(mutaant_frequency_samples)\n",
    "plt.xlabel(\"Mutation Frequency\")\n",
    "plt.ylabel(\"Count\")\n",
    "plt.xlim(0,1)\n",
    "plt.show()"
   ]
  },
  {
   "cell_type": "markdown",
   "metadata": {},
   "source": [
    "### Next, let's look at a sample of *1000* individuals from our population\n",
    "Make sure you notice what exactly we're changing here! \n",
    "\n",
    "We haven't changed the number of populations we're sampling, but we have changed how *big* each population is! Why does that have such a large effect on the variation around our mutant frequency? "
   ]
  },
  {
   "cell_type": "code",
   "execution_count": 11,
   "metadata": {},
   "outputs": [
    {
     "data": {
      "image/png": "[encoded data removed]",
      "text/plain": [
       "<Figure size 432x288 with 1 Axes>"
      ]
     },
     "metadata": {
      "needs_background": "light"
     },
     "output_type": "display_data"
    }
   ],
   "source": [
    "mutaant_frequency_samples = [mutant_freq(np.random.choice(population, size=1000)) for i in range(1000)]\n",
    "plt.hist(mutaant_frequency_samples)\n",
    "plt.xlabel(\"Mutation Frequency\")\n",
    "plt.ylabel(\"Count\")\n",
    "plt.xlim(0,1)\n",
    "plt.show()"
   ]
  },
  {
   "cell_type": "markdown",
   "metadata": {},
   "source": [
    "# Now let's simulate some drift!"
   ]
  },
  {
   "cell_type": "code",
   "execution_count": 12,
   "metadata": {},
   "outputs": [
    {
     "name": "stdout",
     "output_type": "stream",
     "text": [
      "[1. 1. 1. 1. 1. 0. 0. 0. 0. 0. 0. 0. 0. 0. 0. 0. 0. 0. 0. 0.]\n",
      "0.25\n"
     ]
    }
   ],
   "source": [
    "#Just a reminder\n",
    "pop_size = 20\n",
    "num_mutants = 5\n",
    "\n",
    "population = np.zeros(pop_size)\n",
    "\n",
    "for i in range(num_mutants):\n",
    "    population[i] = 1\n",
    "    \n",
    "print(population)\n",
    "print(mutant_freq(population))"
   ]
  },
  {
   "cell_type": "code",
   "execution_count": 13,
   "metadata": {},
   "outputs": [
    {
     "name": "stdout",
     "output_type": "stream",
     "text": [
      "Generation: 1, MutFreq: 0.3\n",
      "Generation: 2, MutFreq: 0.2\n",
      "Generation: 3, MutFreq: 0.25\n",
      "Generation: 4, MutFreq: 0.2\n",
      "Generation: 5, MutFreq: 0.45\n",
      "Generation: 6, MutFreq: 0.35\n",
      "Generation: 7, MutFreq: 0.4\n",
      "Generation: 8, MutFreq: 0.55\n",
      "Generation: 9, MutFreq: 0.5\n",
      "Generation: 10, MutFreq: 0.55\n"
     ]
    }
   ],
   "source": [
    "num_generations = 10\n",
    "\n",
    "for gen in range(num_generations):\n",
    "    population = np.random.choice(population, pop_size)\n",
    "    print(\"Generation: {0}, MutFreq: {1}\".format(gen+1, mutant_freq(population)))"
   ]
  },
  {
   "cell_type": "markdown",
   "metadata": {},
   "source": [
    "## Let's keep track of the mutant frequency over time so we can plot it!\n",
    "We'll create a variable `mutation_frequency_list`, and append the mutation frequency from each generation. "
   ]
  },
  {
   "cell_type": "code",
   "execution_count": 14,
   "metadata": {},
   "outputs": [
    {
     "name": "stdout",
     "output_type": "stream",
     "text": [
      "Generation: 1, MutFreq: 0.3\n",
      "Generation: 2, MutFreq: 0.1\n",
      "Generation: 3, MutFreq: 0.2\n",
      "Generation: 4, MutFreq: 0.3\n",
      "Generation: 5, MutFreq: 0.25\n",
      "Generation: 6, MutFreq: 0.25\n",
      "Generation: 7, MutFreq: 0.2\n",
      "Generation: 8, MutFreq: 0.25\n",
      "Generation: 9, MutFreq: 0.2\n",
      "Generation: 10, MutFreq: 0.35\n"
     ]
    }
   ],
   "source": [
    "# Putting everything together...\n",
    "\n",
    "pop_size = 20\n",
    "num_mutants = 5\n",
    "num_generations = 10\n",
    "\n",
    "mutation_frequency_list = []\n",
    "population = np.zeros(pop_size)\n",
    "\n",
    "for i in range(num_mutants):\n",
    "    population[i] = 1\n",
    "\n",
    "#Let's be sure to record the frequency at the beginning of time!\n",
    "mutation_frequency_list.append(mutant_freq(population))\n",
    "\n",
    "for gen in range(num_generations):\n",
    "    population = np.random.choice(population, pop_size)\n",
    "    print(\"Generation: {0}, MutFreq: {1}\".format(gen+1, mutant_freq(population)))\n",
    "    mutation_frequency_list.append(mutant_freq(population))"
   ]
  },
  {
   "cell_type": "code",
   "execution_count": 15,
   "metadata": {},
   "outputs": [
    {
     "data": {
      "text/plain": [
       "[0.25, 0.3, 0.1, 0.2, 0.3, 0.25, 0.25, 0.2, 0.25, 0.2, 0.35]"
      ]
     },
     "execution_count": 15,
     "metadata": {},
     "output_type": "execute_result"
    }
   ],
   "source": [
    "#Now let's look at the list\n",
    "mutation_frequency_list"
   ]
  },
  {
   "cell_type": "code",
   "execution_count": 16,
   "metadata": {},
   "outputs": [
    {
     "data": {
      "image/png": "[encoded data removed]",
      "text/plain": [
       "<Figure size 432x288 with 1 Axes>"
      ]
     },
     "metadata": {
      "needs_background": "light"
     },
     "output_type": "display_data"
    }
   ],
   "source": [
    "plt.plot(mutation_frequency_list)\n",
    "plt.ylabel(\"Mutation Freq\")\n",
    "plt.xlabel(\"Generation\")\n",
    "plt.show()"
   ]
  },
  {
   "cell_type": "markdown",
   "metadata": {},
   "source": [
    "## Let's normalize the figure to about 0 - 1, since this is a proportion"
   ]
  },
  {
   "cell_type": "code",
   "execution_count": 17,
   "metadata": {},
   "outputs": [
    {
     "data": {
      "image/png": "[encoded data removed]",
      "text/plain": [
       "<Figure size 432x288 with 1 Axes>"
      ]
     },
     "metadata": {
      "needs_background": "light"
     },
     "output_type": "display_data"
    }
   ],
   "source": [
    "plt.plot(mutation_frequency_list)\n",
    "plt.ylabel(\"Mutation Freq\")\n",
    "plt.xlabel(\"Generation\")\n",
    "plt.ylim(-0.01, 1.01)\n",
    "plt.show()"
   ]
  },
  {
   "cell_type": "markdown",
   "metadata": {},
   "source": [
    "## Looks like the mutants had a rocky start but might on their way to fixation! \n",
    "\n",
    "You should try running many of these simulations and plot their trajectories on a single figure. Launch the Repl.it now and start drifting!\n",
    "\n",
    "See the README.md file for a couple of directions you should explore and build your intution about. "
   ]
  },
  {
   "cell_type": "code",
   "execution_count": null,
   "metadata": {},
   "outputs": [],
   "source": []
  }
 ],
 "metadata": {
  "kernelspec": {
   "display_name": "Python 3",
   "language": "python",
   "name": "python3"
  },
  "language_info": {
   "codemirror_mode": {
    "name": "ipython",
    "version": 3
   },
   "file_extension": ".py",
   "mimetype": "text/x-python",
   "name": "python",
   "nbconvert_exporter": "python",
   "pygments_lexer": "ipython3",
   "version": "3.7.4"
  }
 },
 "nbformat": 4,
 "nbformat_minor": 4
}
